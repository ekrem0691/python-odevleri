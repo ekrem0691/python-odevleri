{
 "cells": [
  {
   "cell_type": "code",
   "execution_count": null,
   "metadata": {},
   "outputs": [],
   "source": [
    "sayı = input(\"lütfen sayıyı giriniz:\")\n",
    "\n",
    "n = len(sayı)\n",
    "toplam = 0\n",
    "\n",
    "if sayı.isdigit() :\n",
    "    for i in sayı:\n",
    "        toplam += int(i) ** n\n",
    "\n",
    "    if toplam == int(sayı):\n",
    "        print(f\"Girdiğiniz {sayı} sayısı bir armstrong sayıdır\")     \n",
    "    else:\n",
    "        print(f\"girdiğiniz sayı {sayı} amstrong sayı değildir\")\n",
    "else:\n",
    "    print(f\"Geçersiz giriş; lütfen, string ifade, negatif ve float sayı dışında herhangi bir tam sayı giriniz:\")\n",
    "    "
   ]
  }
 ],
 "metadata": {
  "language_info": {
   "name": "python"
  },
  "orig_nbformat": 4
 },
 "nbformat": 4,
 "nbformat_minor": 2
}
